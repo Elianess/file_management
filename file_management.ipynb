{
  "cells": [
    {
      "cell_type": "code",
      "execution_count": 1,
      "metadata": {
        "colab": {
          "base_uri": "https://localhost:8080/"
        },
        "id": "OpTl57dGysYv",
        "outputId": "5446d16d-57ae-42c0-9206-7557512614a0"
      },
      "outputs": [
        {
          "output_type": "stream",
          "name": "stdout",
          "text": [
            "Collecting dicttoxml\n",
            "  Downloading dicttoxml-1.7.16-py3-none-any.whl (24 kB)\n",
            "Installing collected packages: dicttoxml\n",
            "Successfully installed dicttoxml-1.7.16\n"
          ]
        }
      ],
      "source": [
        "# !pip install dicttoxml"
      ]
    },
    {
      "cell_type": "code",
      "source": [
        "import psutil # мониторинг системных ресурсов\n",
        "import os # взаимодействование с операционной системой\n",
        "import json # работа с данными JSON\n",
        "import dicttoxml # преобразование словарей в XML\n",
        "import zipfile # работа со сжатыми файлами и папками"
      ],
      "metadata": {
        "id": "uqKrs91gFUtd"
      },
      "execution_count": 2,
      "outputs": []
    },
    {
      "cell_type": "code",
      "source": [
        "# константы\n",
        "FILENAME = \"example.txt\"\n",
        "FILENAME_JSON = \"example.json\"\n",
        "FILENAME_XML = \"example.xml\"\n",
        "ARCHIVE_NAME = 'test'"
      ],
      "metadata": {
        "id": "Yb7BxlvRFUwU"
      },
      "execution_count": 3,
      "outputs": []
    },
    {
      "cell_type": "code",
      "source": [
        "# создание файла\n",
        "def create_file(filename):\n",
        "    if os.path.exists(filename):\n",
        "        print(f\"Файл {filename} уже сущетвует\")\n",
        "        return\n",
        "\n",
        "    with open(filename, \"w\") as f:\n",
        "        print(f\"Файл {filename} Создан\")"
      ],
      "metadata": {
        "id": "Ffb9xX6tFUyi"
      },
      "execution_count": 4,
      "outputs": []
    },
    {
      "cell_type": "code",
      "source": [
        "# удаление файла\n",
        "def delete_file(filename):\n",
        "    if not os.path.exists(filename):\n",
        "        print(f\"Файла {filename} не существует\")\n",
        "        return\n",
        "\n",
        "    try:\n",
        "        os.remove(filename)\n",
        "        print(f\"Файл {filename} удален\")\n",
        "    except OSError as e:\n",
        "        print(f\"Ошибка удаления файла {filename}: {e}\")"
      ],
      "metadata": {
        "id": "KjKJEORIFU1E"
      },
      "execution_count": 5,
      "outputs": []
    },
    {
      "cell_type": "code",
      "source": [
        "# запись в файл\n",
        "def write_to_file(filename):\n",
        "    text = input(f\"Введите текст, который будет записан в файл {filename}: \")\n",
        "\n",
        "    try:\n",
        "        with open(filename, 'w') as file:\n",
        "            file.write(text)\n",
        "            print('Текст успешно записан в файл')\n",
        "    except Exception as e:\n",
        "        print(f\"Произошла ошибка записи текста в файл: {e}\")"
      ],
      "metadata": {
        "id": "i0gl_OhxFU3i"
      },
      "execution_count": 6,
      "outputs": []
    },
    {
      "cell_type": "code",
      "source": [
        "# чтение файла\n",
        "def read_the_file(filename):\n",
        "    try:\n",
        "        with open(filename, \"r\") as file:\n",
        "            text = file.read()\n",
        "            print(f\"Текст в файле {filename}: {text}\")\n",
        "    except Exception as e:\n",
        "        print(f\"Произошла ошибка при чтении файла: {e}\")"
      ],
      "metadata": {
        "id": "stwp_fUvFU6F"
      },
      "execution_count": 8,
      "outputs": []
    },
    {
      "cell_type": "markdown",
      "source": [
        "----\n",
        "#`Задание 1`\n",
        "\n",
        "Вывести информацию в консоль о логических дисках, именах, метке тома, размере типе файловой системы."
      ],
      "metadata": {
        "id": "Eg5TR5xNOrWu"
      }
    },
    {
      "cell_type": "code",
      "source": [
        "def display_logical_disks_info():\n",
        "    drives = psutil.disk_partitions()\n",
        "\n",
        "    if not drives:\n",
        "        print(\"Дисков не обнаружено\")\n",
        "    else:\n",
        "        for drive in drives:\n",
        "            print(f\"Диск: {drive.device}\")\n",
        "            print(f\"Метка тома: {drive.mountpoint}\")\n",
        "            print(f\"Тип файловой системы: {drive.fstype}\")\n",
        "            try:\n",
        "                drive_usage = psutil.disk_usage(drive.mountpoint)\n",
        "            except PermissionError:\n",
        "                continue\n",
        "            print(f\"Размер диска: {drive_usage.total}\")\n",
        "            print(f\"Свободное пространство: {drive_usage.free}\")\n",
        "            print()"
      ],
      "metadata": {
        "id": "1IeIzot0FU80"
      },
      "execution_count": 14,
      "outputs": []
    },
    {
      "cell_type": "markdown",
      "source": [
        "----\n",
        "#`Задание 2`\n",
        "\n",
        "Работа с файлами\n",
        "- Создать файл\n",
        "- Записать в файл строку\n",
        "- Прочитать файл в консоль\n",
        "- Удалить файл"
      ],
      "metadata": {
        "id": "GNjxiCqCPMAi"
      }
    },
    {
      "cell_type": "code",
      "source": [
        "def file():\n",
        "    create_file(FILENAME)\n",
        "    write_to_file(FILENAME)\n",
        "    read_the_file(FILENAME)"
      ],
      "metadata": {
        "id": "B7H5yXzZFU_b"
      },
      "execution_count": 10,
      "outputs": []
    },
    {
      "cell_type": "markdown",
      "source": [
        "----\n",
        "#`Задание 3`\n",
        "Работа с форматом JSON\n",
        "- Создать файл формате JSON\n",
        "- Создать новый объект\n",
        "- Выполнить сериализацию объекта в формате JSON и записать в файл\n",
        "- Прочитать файл в консоль\n",
        "- Удалить файл\n",
        "\n",
        "#`Задание 4`\n",
        "Работа с форматом XML\n",
        "- Создать файл формате XML из редактора\n",
        "- Записать в файл новые данные из консоли\n",
        "- Прочитать файл в консоль\n",
        "- Удалить файл"
      ],
      "metadata": {
        "id": "ZEgo0tHxPZ-u"
      }
    },
    {
      "cell_type": "code",
      "source": [
        "# для создания объектов-людей\n",
        "class Person:\n",
        "    def __init__(self, name : str, age : int):\n",
        "        # Инициализируем человека с заданным именем и возрастом\n",
        "        self.name = name\n",
        "        if int(age) < 0:\n",
        "            self.age = 0\n",
        "        else:\n",
        "            self.age = int(age)\n",
        "\n",
        "    # Возвращаем словарное представление объекта person\n",
        "    def asDict(self):\n",
        "        return {'Name': self.name,'Age': self.age}\n",
        "\n",
        "# базовый класс для сохранения людей\n",
        "class Driver:\n",
        "    def Save(self, persons:list, filename):\n",
        "        pass\n",
        "\n",
        "# для сохранения людей в формате XML\n",
        "class XMLDriver(Driver):\n",
        "    def Save(self, persons: list, filename):\n",
        "        # Инициализируем пустой словарь для хранения данных XML\n",
        "        xmlData = { 'Persons' : [] };\n",
        "\n",
        "        # Перебираем список людей и конвертируем каждого человека в словарь\n",
        "        for person in persons:\n",
        "            xmlData['Persons'].append(person.asDict())\n",
        "\n",
        "        # Записываем данные XML в файл\n",
        "        with open(filename,\"w\") as my_file:\n",
        "            my_file.write(dicttoxml.dicttoxml(xmlData,return_bytes=False))\n",
        "\n",
        "# для сохранения людей в формате JSON\n",
        "class JSONDriver(Driver):\n",
        "    def Save(self, persons:list, filename):\n",
        "        # Инициализируем пустой список для хранения данных JSON\n",
        "        jsonData = [];\n",
        "\n",
        "        # Перебираем список людей и конвертируем каждого человека в словарь\n",
        "        for person in persons:\n",
        "            jsonData.append(person.asDict())\n",
        "\n",
        "        # Записываем данные JSON в файл\n",
        "        with open(filename,\"w\") as my_file:\n",
        "            json.dump(jsonData, my_file)\n",
        "\n",
        "# для управления данными о людях\n",
        "class PersonHandler():\n",
        "    def __init__(self):\n",
        "        # Инициализируем пустой список для хранения людей\n",
        "        self.persons = []\n",
        "\n",
        "    def SavePersons(self, d: Driver, filename):\n",
        "        # Вызоваем метод Save объекта Driver, чтобы сохранить людей в файл\n",
        "        d.Save(self.persons, filename)\n",
        "\n",
        "    def AddPerson(self, name : str, age : int):\n",
        "        # Создаем новый объект Person с указанным именем и возрастом и добавляем его в список людей\n",
        "        self.persons.append(Person(name,age))\n",
        "\n",
        "    def FindPerson(self):\n",
        "        # Выведим имя и возраст каждого человека в списке людей\n",
        "        [print(f\"Name: {item.name}, Age: {item.age}\") for item in self.persons]\n",
        "\n",
        "    def DeletePerson(self, name: str):\n",
        "        # Перебираем список людей и удаляем человека с указанным именем\n",
        "        for person in self.persons:\n",
        "            if name in person.name:\n",
        "                self.persons.remove(person)\n",
        "                print(f'персонаж {name} успешно удалена')\n",
        "            else:\n",
        "                print(f'персоны {name} не существует ')\n",
        "\n",
        "class Program():\n",
        "    @staticmethod\n",
        "    def menu():\n",
        "        # Отображение меню с опциями взаимодействия с данными человека\n",
        "        print('1. Добавить person\\n'\n",
        "              '2. удалить person\\n'\n",
        "              '3. посмотреть персонажей\\n'\n",
        "              '4. JSON\\n'\n",
        "              '5. XML\\n'\n",
        "              '0. Выход')\n",
        "\n",
        "    @staticmethod\n",
        "    def SaveXML(handler):\n",
        "        # Сохраняем данные о человеке в XML-файл, используя PersonHandler\n",
        "        driver = XMLDriver()\n",
        "        handler.SavePersons(driver, FILENAME_XML)\n",
        "\n",
        "    @staticmethod\n",
        "    def SaveJSON(handler):\n",
        "        # Сохраняем данные о человеке в файл JSON, используя PersonHandler\n",
        "        driver = JSONDriver()\n",
        "        handler.SavePersons(driver, FILENAME_JSON)\n",
        "\n",
        "    @staticmethod\n",
        "    def AddPerson(handler : PersonHandler):\n",
        "        # Добавляем нового человека, используя данные пользователя\n",
        "        name = input(\"Имя: \")\n",
        "        age = input(\"Возраст: \")\n",
        "        handler.AddPerson(name, age)\n",
        "\n",
        "    @staticmethod\n",
        "    def DeletePerson(handler : PersonHandler):\n",
        "        # Удаление человека используя данные пользователя\n",
        "        name = input(\"Имя: \")\n",
        "        handler.DeletePerson(name)\n",
        "\n",
        "    @staticmethod\n",
        "    def FindPerson(handler : PersonHandler):\n",
        "        # Отображение данных обо всех людях\n",
        "        handler.FindPerson()\n",
        "\n",
        "    @staticmethod\n",
        "    def main():\n",
        "        # Основной метод запуска программы\n",
        "        handler = PersonHandler()\n",
        "\n",
        "        while True:\n",
        "            Program.menu()\n",
        "            for_case = input(\"Выбери действие: \")\n",
        "\n",
        "            # добавить персонажа\n",
        "            if for_case == \"1\":\n",
        "                Program.AddPerson(handler)\n",
        "\n",
        "            # удаление персонажа\n",
        "            elif for_case == \"2\":\n",
        "                check = input(\"удалить person? (1 - да / 0 - нет): \")\n",
        "                if check == \"1\":\n",
        "                    Program.DeletePerson(handler)\n",
        "                elif check == \"0\":\n",
        "                    pass\n",
        "                else:\n",
        "                    print('err')\n",
        "\n",
        "            # посмотреть персонаже\n",
        "            elif for_case == \"3\":\n",
        "                Program.FindPerson(handler)\n",
        "\n",
        "            # работа json\n",
        "            elif for_case == \"4\":\n",
        "                check = input(\"Создать/изменить - 2 \\ удалить JSON файл - 1 \\ отмена - 0: \")\n",
        "                if check == \"2\":\n",
        "                    Program.SaveJSON(handler)\n",
        "                elif check == '1':\n",
        "                    delete_file(FILENAME_JSON)\n",
        "                elif check == \"0\":\n",
        "                    pass\n",
        "                else:\n",
        "                    print('выбор не из меню')\n",
        "\n",
        "            # работа с xml\n",
        "            elif for_case == \"5\":\n",
        "                check = input(\"Создать/изменить - 2 \\ удалить XML файл - 1 \\ отмена - 0: \")\n",
        "                if check == \"2\":\n",
        "                    Program.SaveXML(handler)\n",
        "                elif check == '1':\n",
        "                    delete_file(FILENAME_XML)\n",
        "                elif check == '0':\n",
        "                    pass\n",
        "                else:\n",
        "                    print('выбор не из меню')\n",
        "\n",
        "            # выход\n",
        "            elif for_case == \"0\":\n",
        "                break"
      ],
      "metadata": {
        "id": "JT_hYJq1FVGz"
      },
      "execution_count": 20,
      "outputs": []
    },
    {
      "cell_type": "markdown",
      "source": [
        "----\n",
        "#`Задание 5`\n",
        "Создание zip архива, добавление туда файла, определение размера архива\n",
        "- Создать архив в форматер zip\n",
        "- Добавить файл в архив\n",
        "- Разархивировать файл и вывести данные о нем\n",
        "- Удалить файл и архив"
      ],
      "metadata": {
        "id": "B6FlfxoNWa3f"
      }
    },
    {
      "cell_type": "code",
      "source": [
        "def zip_file():\n",
        "    def create_zip_archive(filename, archive_name):\n",
        "        # Создает ZIP-архив из файла\n",
        "        with zipfile.ZipFile(archive_name, 'w') as zip_file:\n",
        "            zip_file.write(filename)\n",
        "\n",
        "    def get_archive_size(arhivename):\n",
        "        # Получает размер ZIP-архива\n",
        "        size = os.path.getsize(arhivename)\n",
        "        print(f\"Размер архива: {size} байт\")\n",
        "\n",
        "    def extract_zip_archive(archive_name):\n",
        "        # Извлекает содержимое ZIP-архива\n",
        "        with zipfile.ZipFile(archive_name, 'r') as zip_file:\n",
        "            zip_file.extractall()\n",
        "        file_name = os.path.splitext(archive_name)[0]\n",
        "\n",
        "        print(f\"Извлечен файл: {file_name}\")\n",
        "\n",
        "    create_file(FILENAME)\n",
        "    write_to_file(FILENAME)\n",
        "    create_zip_archive(FILENAME, ARCHIVE_NAME)\n",
        "    get_archive_size(ARCHIVE_NAME)\n",
        "    extract_zip_archive(ARCHIVE_NAME)"
      ],
      "metadata": {
        "id": "vxxO6hRiFVC7"
      },
      "execution_count": 21,
      "outputs": []
    },
    {
      "cell_type": "markdown",
      "source": [
        "----"
      ],
      "metadata": {
        "id": "f3I4AuaoWrwv"
      }
    },
    {
      "cell_type": "code",
      "source": [
        "from IPython.display import clear_output\n",
        "\n",
        "for_case = \"\"\n",
        "\n",
        "while(for_case != '0'):\n",
        "\n",
        "    for_case = input('\\n\\n1. Посмотреть информацию о дисках\\n'\n",
        "                     '2. Работа с файлами\\n'\n",
        "                     '3. Работа с JSON или XML\\n'\n",
        "                     '4. Работа с ZIP\\n'\n",
        "                     '0. Выход\\n')\n",
        "\n",
        "    clear_output()\n",
        "\n",
        "    # Задание 1\n",
        "    if for_case == '1':\n",
        "        display_logical_disks_info()\n",
        "\n",
        "    # Задание 2\n",
        "    elif for_case == '2':\n",
        "        check_create = input('Создать файл? (1 - да / 0 - нет): ')\n",
        "        if check_create == '1':\n",
        "            file()\n",
        "\n",
        "            check_del = input(\"Удалить файл? (1 - да / 0 - нет): \")\n",
        "            if check_del == \"1\":\n",
        "                delete_file(FILENAME)\n",
        "            elif check_del == '0':\n",
        "                print(\"Нет, так нет(\")\n",
        "            else:\n",
        "                print('err')\n",
        "\n",
        "        elif check_create == '0':\n",
        "            print('Нет, так нет(')\n",
        "        else:\n",
        "            print('err')\n",
        "\n",
        "    # Задание 3\\4\n",
        "    elif for_case == \"3\":\n",
        "        Program.main()\n",
        "\n",
        "    # Задание 5\n",
        "    elif for_case == \"5\":\n",
        "        check_create =  input(\"Создать zip архив? (1 - да / 0 - нет): \")\n",
        "        if check_create == \"1\":\n",
        "            zip_file()\n",
        "\n",
        "            check_del = input(\"Удалить zip архив? (1 - да / 0 - нет): \")\n",
        "            if check_del == \"1\":\n",
        "                delete_file(FILENAME)\n",
        "                delete_file(ARCHIVE_NAME)\n",
        "            elif check_del == '0':\n",
        "                print(\"Нет, так нет(\")\n",
        "            else:\n",
        "                print('err')\n",
        "\n",
        "        elif check_create == '0':\n",
        "            print(\"Нет, так нет(\")\n",
        "        else:\n",
        "            print('err')\n",
        "\n",
        "    elif for_case =='0':\n",
        "        print(\"Выход\")\n",
        "        break\n",
        "\n",
        "    else:\n",
        "        print(\"Выбор не из меню.\")\n",
        "        break"
      ],
      "metadata": {
        "colab": {
          "base_uri": "https://localhost:8080/"
        },
        "id": "WjdP6lR9FVKN",
        "outputId": "3afc0e32-aacc-48ae-fe96-1ccf10565c04"
      },
      "execution_count": 22,
      "outputs": [
        {
          "output_type": "stream",
          "name": "stdout",
          "text": [
            "Выход\n"
          ]
        }
      ]
    }
  ],
  "metadata": {
    "colab": {
      "provenance": []
    },
    "kernelspec": {
      "display_name": "Python 3",
      "name": "python3"
    },
    "language_info": {
      "name": "python"
    }
  },
  "nbformat": 4,
  "nbformat_minor": 0
}